{
  "cells": [
    {
      "cell_type": "markdown",
      "metadata": {
        "id": "view-in-github",
        "colab_type": "text"
      },
      "source": [
        "<a href=\"https://colab.research.google.com/github/chenxiandiao/ATMS/blob/master/simple_lora_trainer.ipynb\" target=\"_parent\"><img src=\"https://colab.research.google.com/assets/colab-badge.svg\" alt=\"Open In Colab\"/></a>"
      ]
    },
    {
      "cell_type": "code",
      "execution_count": null,
      "metadata": {
        "id": "SaAJk33ppFw1"
      },
      "outputs": [],
      "source": [
        "#@title Train LoRA\n",
        "from google.colab import drive\n",
        "drive.mount('/content/drive')\n",
        "\n",
        "!apt -y update -qq\n",
        "!wget http://launchpadlibrarian.net/367274644/libgoogle-perftools-dev_2.5-2.2ubuntu3_amd64.deb\n",
        "!wget https://launchpad.net/ubuntu/+source/google-perftools/2.5-2.2ubuntu3/+build/14795286/+files/google-perftools_2.5-2.2ubuntu3_all.deb\n",
        "!wget https://launchpad.net/ubuntu/+source/google-perftools/2.5-2.2ubuntu3/+build/14795286/+files/libtcmalloc-minimal4_2.5-2.2ubuntu3_amd64.deb\n",
        "!wget https://launchpad.net/ubuntu/+source/google-perftools/2.5-2.2ubuntu3/+build/14795286/+files/libgoogle-perftools4_2.5-2.2ubuntu3_amd64.deb\n",
        "!apt install -qq libunwind8-dev\n",
        "!dpkg -i *.deb\n",
        "%env LD_PRELOAD=libtcmalloc.so\n",
        "!rm *.deb\n",
        "\n",
        "!apt -y install -qq aria2\n",
        "!pip install torch torchvision torchaudio torchtext torchdata --extra-index-url https://download.pytorch.org/whl/cu116 -U\n",
        "!pip install -q xformers triton -U\n",
        "\n",
        "!git clone https://github.com/camenduru/sd-scripts\n",
        "!sed -i -e 's/requests==2.28.2/# requests==2.28.2/' /content/sd-scripts/requirements.txt\n",
        "%cd /content/sd-scripts\n",
        "!pip install -q -r requirements.txt\n",
        "\n",
        "model_url = \"https://huggingface.co/stable-diffusion-v1-5/stable-diffusion-v1-5/blob/main/v1-5-pruned.ckpt\" #@param {type:\"string\"}\n",
        "model_name = \"v1-5-pruned.ckpt\" #@param {type:\"string\"}\n",
        "pretrained_model_name_or_path = f\"/content/model/{model_name}\"\n",
        "\n",
        "!mkdir /content/model\n",
        "!aria2c --console-log-level=error -c -x 16 -s 16 -k 1M {model_url} -d /content/model -o {model_name}\n",
        "\n",
        "root_path = \"/content/drive/MyDrive/AI/training\" #@param {type:\"string\"}\n",
        "instance_prompt = \"linear\" #@param {type:\"string\"}\n",
        "images_path = f\"{root_path}/{instance_prompt}\"\n",
        "images_tags_json = f\"{images_path}/{instance_prompt}.json\"\n",
        "images_latents_json = f\"{images_path}/{instance_prompt}-latents.json\"\n",
        "output_dir = f\"/content/{instance_prompt}\"\n",
        "max_train_steps = 1600 #@param {type:\"integer\"}\n",
        "\n",
        "!python -u finetune/tag_images_by_wd14_tagger.py {images_path} --repo_id SmilingWolf/wd-v1-4-convnext-tagger-v2 --model_dir wd14_tagger_model --thresh 0.35 --batch_size 1 --caption_extension .txt\n",
        "!python -u finetune/merge_dd_tags_to_metadata.py {images_path} {images_tags_json} --caption_extension .txt\n",
        "!python -u finetune/prepare_buckets_latents.py {images_path} {images_tags_json} {images_latents_json} {pretrained_model_name_or_path} --batch_size 1 --max_resolution 512,512 --min_bucket_reso 256 --max_bucket_reso 1024 --bucket_reso_steps 64 --mixed_precision no\n",
        "!python -u train_network.py --pretrained_model_name_or_path {pretrained_model_name_or_path} --train_data_dir {images_path} --in_json {images_latents_json} --output_dir {output_dir} --xformers --max_train_steps {max_train_steps} --use_8bit_adam --network_module networks.lora\n",
        "\n",
        "!mv {output_dir}/last.safetensors {output_dir}/{instance_prompt}.safetensors"
      ]
    }
  ],
  "metadata": {
    "accelerator": "GPU",
    "colab": {
      "private_outputs": true,
      "provenance": [],
      "toc_visible": true,
      "include_colab_link": true
    },
    "gpuClass": "standard",
    "kernelspec": {
      "display_name": "Python 3",
      "name": "python3"
    },
    "language_info": {
      "name": "python"
    }
  },
  "nbformat": 4,
  "nbformat_minor": 0
}